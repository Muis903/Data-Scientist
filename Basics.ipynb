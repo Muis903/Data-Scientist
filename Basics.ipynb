# My First Data Science Project

## Helicopter Escapes!

We begin by importing some helper functions

from helper import *

## Get the Data

Now, let's get the data from the [List of the helicopter prison escapes]
(https://en.wikipedia.org/wiki/List_of_helicopter_prison_escapes) Wikipedia article.

url = "https://en.wikipedia.org/wiki/List_of_helicopter_prison_escapes"
data = data_from_url(url)

Let's print the first three rows.

for row in data[:3]:
    print(row)

index = 0
for row in data:
    data[index] = row[:-1]
    index +=1

print(data[:3])

for row in data:
    row[0] = fetch_year(row[0])

print(data[:3])

min_year = min(data, key=lambda x: x[0])[0]
max_year = max(data, key=lambda x: x[0])[0]

years = []
for y in range(min_year, max_year + 1):
    years.append(y)

print(years)

attempts_per_year = []
for y in years:
    attempts_per_year.append([y, 0])
    

for row in data:
    for ya in attempts_per_year: 
        y = ya[0]
        if row[0] == y:
            ya[1] += 1

print(attempts_per_year)




%matplotlib inline
barplot(attempts_per_year)

The most attemts to break out of prison with a helicopter were in 2009, 2007, 2001 and 1986. (Each 3 times)

countries_frequency = df["Country"].value_counts()

print_pretty_table
